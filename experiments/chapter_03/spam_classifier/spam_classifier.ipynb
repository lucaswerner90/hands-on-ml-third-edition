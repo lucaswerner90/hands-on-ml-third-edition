{
 "cells": [
  {
   "attachments": {},
   "cell_type": "markdown",
   "metadata": {},
   "source": [
    "Exercise: _Build a spam classifier (a more challenging exercise):_\n",
    "\n",
    "* _Download examples of spam and ham from [Apache SpamAssassin's public datasets](https://homl.info/spamassassin)._\n",
    "* _Unzip the datasets and familiarize yourself with the data format._\n",
    "* _Split the datasets into a training set and a test set._\n",
    "* _Write a data preparation pipeline to convert each email into a feature vector. Your preparation pipeline should transform an email into a (sparse) vector that indicates the presence or absence of each possible word. For example, if all emails only ever contain four words, \"Hello,\" \"how,\" \"are,\" \"you,\" then the email \"Hello you Hello Hello you\" would be converted into a vector [1, 0, 0, 1] (meaning [“Hello\" is present, \"how\" is absent, \"are\" is absent, \"you\" is present]), or [3, 0, 0, 2] if you prefer to count the number of occurrences of each word._\n",
    "\n",
    "_You may want to add hyperparameters to your preparation pipeline to control whether or not to strip off email headers, convert each email to lowercase, remove punctuation, replace all URLs with \"URL,\" replace all numbers with \"NUMBER,\" or even perform _stemming_ (i.e., trim off word endings; there are Python libraries available to do this)._\n",
    "\n",
    "_Finally, try out several classifiers and see if you can build a great spam classifier, with both high recall and high precision._"
   ]
  },
  {
   "cell_type": "code",
   "execution_count": 36,
   "metadata": {},
   "outputs": [],
   "source": [
    "import tarfile\n",
    "import os\n",
    "import shutil\n",
    "import email\n",
    "import email.policy\n",
    "\n",
    "\n",
    "def load_email(filepath):\n",
    "    with open(filepath, \"rb\") as f:\n",
    "        return email.parser.BytesParser(policy=email.policy.default).parse(f)\n",
    "\n",
    "\n",
    "def load_spam():\n",
    "\n",
    "\tif os.path.exists('non_spam'):\n",
    "\t\tshutil.rmtree('non_spam')\n",
    "\tif os.path.exists('easy_ham'):\n",
    "\t\tshutil.rmtree('easy_ham')\n",
    "\tif os.path.exists('spam'):\n",
    "\t\tshutil.rmtree('spam')\n",
    "\tif os.path.exists('spam_2'):\n",
    "\t\tshutil.rmtree('spam_2')\n",
    "\n",
    "\tspam_file = tarfile.open(\"./spam.tar.bz2\", \"r:bz2\")  \n",
    "\tspam_file.extractall()\n",
    "\tspam_file.close()\n",
    "\n",
    "\t# Non spam file\n",
    "\tnon_spam_file = tarfile.open(\"./non_spam.tar.bz2\", \"r:bz2\")  \n",
    "\tnon_spam_file.extractall()\n",
    "\tnon_spam_file.close()\n",
    "\n",
    "\tif os.path.exists(os.path.join(os.getcwd(),'easy_ham')):\n",
    "\t\tos.rename('easy_ham','non_spam')\n",
    "\tif os.path.exists(os.path.join(os.getcwd(),'spam_2')):\n",
    "\t\tos.rename('spam_2','spam')\n",
    "\n",
    "\n",
    "\tSPAM_DIR = os.path.join(os.getcwd(),'spam')\n",
    "\tNON_SPAM_DIR = os.path.join(os.getcwd(),'non_spam')\n",
    "\n",
    "\tspam_files = os.listdir(SPAM_DIR)\n",
    "\tnon_spam_files = os.listdir(NON_SPAM_DIR)\n",
    "\n",
    "\tassert len(spam_files) != 0\n",
    "\tassert len(non_spam_files) != 0\n",
    "\n",
    "\tspam_emails = [load_email(os.path.join(SPAM_DIR,f)) for f in spam_files]\n",
    "\tnon_spam_emails = [load_email(os.path.join(NON_SPAM_DIR,f)) \\\n",
    "\t\t    for f in non_spam_files]\n",
    "\n",
    "\treturn spam_emails, non_spam_emails\n",
    "\t\n",
    "\t"
   ]
  },
  {
   "cell_type": "code",
   "execution_count": 37,
   "metadata": {},
   "outputs": [],
   "source": [
    "spam_emails, non_spam_emails = load_spam()"
   ]
  },
  {
   "cell_type": "code",
   "execution_count": 40,
   "metadata": {},
   "outputs": [
    {
     "data": {
      "text/plain": [
       "'Dialogue et Rencontre ? Rejoins nous !'"
      ]
     },
     "execution_count": 40,
     "metadata": {},
     "output_type": "execute_result"
    }
   ],
   "source": [
    "spam_emails[0][\"Subject\"]"
   ]
  },
  {
   "cell_type": "code",
   "execution_count": 45,
   "metadata": {},
   "outputs": [
    {
     "data": {
      "text/plain": [
       "[('Dialogue', 1),\n",
       " ('et', 1),\n",
       " ('Rencontre', 1),\n",
       " ('?', 1),\n",
       " ('Rejoins', 1),\n",
       " ('nous', 1),\n",
       " ('!', 1)]"
      ]
     },
     "execution_count": 45,
     "metadata": {},
     "output_type": "execute_result"
    }
   ],
   "source": [
    "from collections import Counter\n",
    "\n",
    "count = Counter(spam_emails[0][\"Subject\"].split())\n",
    "count.most_common(10)\n"
   ]
  },
  {
   "cell_type": "code",
   "execution_count": null,
   "metadata": {},
   "outputs": [],
   "source": []
  }
 ],
 "metadata": {
  "kernelspec": {
   "display_name": ".env",
   "language": "python",
   "name": "python3"
  },
  "language_info": {
   "codemirror_mode": {
    "name": "ipython",
    "version": 3
   },
   "file_extension": ".py",
   "mimetype": "text/x-python",
   "name": "python",
   "nbconvert_exporter": "python",
   "pygments_lexer": "ipython3",
   "version": "3.9.16"
  },
  "orig_nbformat": 4
 },
 "nbformat": 4,
 "nbformat_minor": 2
}
