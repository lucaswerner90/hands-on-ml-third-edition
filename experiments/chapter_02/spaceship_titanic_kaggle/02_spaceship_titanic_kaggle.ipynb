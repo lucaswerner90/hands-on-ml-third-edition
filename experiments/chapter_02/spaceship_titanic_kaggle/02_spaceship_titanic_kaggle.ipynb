{
  "cells": [
    {
      "cell_type": "markdown",
      "metadata": {
        "id": "N5aHM3nKZSMA"
      },
      "source": [
        "# Download dataset and setup Kaggle\n",
        "[How to download a dataset from Kaggle](https://www.kaggle.com/general/74235)"
      ]
    },
    {
      "cell_type": "code",
      "execution_count": 1,
      "metadata": {
        "id": "0g4j9Y8eXSPC"
      },
      "outputs": [
        {
          "name": "stdout",
          "output_type": "stream",
          "text": [
            "\u001b[33mWARNING: You are using pip version 21.3.1; however, version 22.3.1 is available.\n",
            "You should consider upgrading via the '/Users/lucaswerner/Desktop/hands-on-machine-learning/.env/bin/python3.9 -m pip install --upgrade pip' command.\u001b[0m\n"
          ]
        }
      ],
      "source": [
        "! pip install -q kaggle"
      ]
    },
    {
      "cell_type": "code",
      "execution_count": 2,
      "metadata": {
        "colab": {
          "base_uri": "https://localhost:8080/"
        },
        "id": "H6Z38eEGYtXG",
        "outputId": "1ad11128-7ec8-4951-9ded-060efd7b4d04"
      },
      "outputs": [
        {
          "name": "stdout",
          "output_type": "stream",
          "text": [
            "mkdir: /Users/lucaswerner/.kaggle: File exists\n"
          ]
        }
      ],
      "source": [
        "!mkdir ~/.kaggle\n",
        "! cp kaggle.json ~/.kaggle/\n",
        "! chmod 600 ~/.kaggle/kaggle.json"
      ]
    },
    {
      "cell_type": "code",
      "execution_count": 3,
      "metadata": {
        "colab": {
          "base_uri": "https://localhost:8080/"
        },
        "id": "tI8TfwJzYhqy",
        "outputId": "9093a91c-8e19-43eb-c3ee-7a7460c21e4d"
      },
      "outputs": [
        {
          "name": "stdout",
          "output_type": "stream",
          "text": [
            "ref                                                             title                                              size  lastUpdated          downloadCount  voteCount  usabilityRating  \n",
            "--------------------------------------------------------------  ------------------------------------------------  -----  -------------------  -------------  ---------  ---------------  \n",
            "ahsan81/hotel-reservations-classification-dataset               Hotel Reservations Dataset                        480KB  2023-01-04 12:50:31           4288        161  1.0              \n",
            "senapatirajesh/netflix-tv-shows-and-movies                      Latest Netflix TV shows and movies                  1MB  2023-01-14 17:03:12           1045         30  0.88235295       \n",
            "thedevastator/global-fossil-co2-emissions-by-country-2002-2022  Emissions by Country, 2002-2022                   621KB  2023-01-02 20:10:36           2058         68  1.0              \n",
            "johnny1994/divorce-rates-data-should-you-get-married            Divorce Rates Data: Should You Get Married?        22KB  2023-01-15 12:49:06            720         29  0.88235295       \n",
            "rakkesharv/spotify-top-10000-streamed-songs                     Spotify Top 10000 Streamed Songs                  280KB  2023-01-02 08:17:15           1899         61  1.0              \n",
            "die9origephit/fifa-world-cup-2022-complete-dataset              Fifa World Cup 2022: Complete Dataset               7KB  2022-12-18 22:51:11           7018        214  1.0              \n",
            "themrityunjaypathak/imdb-top-100-movies                         IMDb Top 100 Movies                                 4KB  2023-01-11 17:15:09            999         33  1.0              \n",
            "thedevastator/tesla-accident-fatalities-analysis-and-statistic  Tesla Deaths                                       18KB  2023-01-02 23:34:23            828         25  1.0              \n",
            "rishikeshkonapure/home-loan-approval                            Home Loan Approval                                 13KB  2023-01-12 06:28:57           1116         28  1.0              \n",
            "ayushnitb/starcraft-players-dataset                             Starcraft Players Dataset - Gamers Analytics      205KB  2023-01-18 23:14:29            215         27  1.0              \n",
            "ruddygunawan/per-capita-income-by-county-2021-vs-education      Per Capita Income by County (2021) vs. Education   89KB  2022-12-28 14:37:42           1369         29  1.0              \n",
            "nguyenthicamlai/population-2022                                 Word Population (1955-2020)                       121KB  2023-01-20 12:01:55            563         27  0.7647059        \n",
            "schmoyote/coffee-reviews-dataset                                Coffee Reviews Dataset                            569KB  2023-01-19 02:25:42            605         24  1.0              \n",
            "thedevastator/state-ut-wise-road-accidents-due-to-driver-viola  Road Accidents due to Driver Violations (India)     2KB  2023-01-06 14:29:20            749         26  1.0              \n",
            "sudhanshuy17/mobilephone                                        MobilePhone's Dataset                             876KB  2023-01-20 14:24:37            806         29  0.88235295       \n",
            "omkargowda/suicide-rates-overview-1985-to-2021                  Suicide Rates Overview (1985 to 2021)             539KB  2023-01-04 15:11:45           1416         56  1.0              \n",
            "gan2gan/1000-imdb-movies-20062016                               1000 IMDB movies (2006-2016)                      134KB  2023-01-17 12:32:25            387         22  1.0              \n",
            "arbazmohammad/world-airports-and-airlines-datasets              Worlds Airports and Airlines Datasets             769KB  2023-01-11 07:39:19            552         27  1.0              \n",
            "ahsan81/used-handheld-device-data                               Used Phones & Tablets Pricing Dataset              77KB  2023-01-07 16:47:53            586         23  1.0              \n",
            "dansbecker/melbourne-housing-snapshot                           Melbourne Housing Snapshot                        451KB  2018-06-05 12:52:24         104909       1198  0.7058824        \n"
          ]
        }
      ],
      "source": [
        "! kaggle datasets list"
      ]
    },
    {
      "cell_type": "code",
      "execution_count": 4,
      "metadata": {
        "colab": {
          "base_uri": "https://localhost:8080/"
        },
        "id": "vfQn9uJLYrMO",
        "outputId": "e521e1a7-7fcf-4475-d250-978605cfdd1a"
      },
      "outputs": [
        {
          "name": "stdout",
          "output_type": "stream",
          "text": [
            "Downloading spaceship-titanic.zip to /workspaces/hands-on-machine-learning/experiments/chapter_02/spaceship_titanic_kaggle\n",
            "  0%|                                                | 0.00/299k [00:00<?, ?B/s]\n",
            "100%|████████████████████████████████████████| 299k/299k [00:00<00:00, 4.55MB/s]\n"
          ]
        }
      ],
      "source": [
        "! kaggle competitions download -c 'spaceship-titanic'"
      ]
    },
    {
      "attachments": {},
      "cell_type": "markdown",
      "metadata": {
        "id": "vYs9NFx2ZcET"
      },
      "source": [
        "# Decompress dataset zip"
      ]
    },
    {
      "cell_type": "code",
      "execution_count": 4,
      "metadata": {
        "id": "TUECWLhgZgFK"
      },
      "outputs": [],
      "source": [
        "from pathlib import Path\n",
        "import pandas as pd\n",
        "import shutil\n",
        "import os\n",
        "DATASET_DIR = \"dataset\"\n",
        "Path(DATASET_DIR).mkdir(parents=True, exist_ok=True)\n",
        "if os.path.exists(os.path.join('spaceship-titanic.zip')):\n",
        "\tshutil.unpack_archive('spaceship-titanic.zip', DATASET_DIR)\n",
        "\tos.remove(os.path.join('spaceship-titanic.zip'))\n",
        "\t\n"
      ]
    },
    {
      "cell_type": "code",
      "execution_count": 5,
      "metadata": {
        "id": "gUJCXjONaCAF"
      },
      "outputs": [],
      "source": [
        "df_train = pd.read_csv(Path(DATASET_DIR+\"/\"+\"train.csv\"))\n",
        "df_test = pd.read_csv(Path(DATASET_DIR+\"/\"+\"test.csv\"))"
      ]
    },
    {
      "attachments": {},
      "cell_type": "markdown",
      "metadata": {
        "id": "O25U6qAmbMTG"
      },
      "source": [
        "# Analyze dataset\n",
        "\n",
        "```Cabin``` - The cabin number where the passenger is staying. Takes the form deck/num/side, where side can be either P for Port or S for Starboard."
      ]
    },
    {
      "cell_type": "code",
      "execution_count": 6,
      "metadata": {
        "colab": {
          "base_uri": "https://localhost:8080/",
          "height": 546
        },
        "id": "9fVl_rCBbL3G",
        "outputId": "db2966e1-9603-44a9-c9c2-b49ea0ef5ecc"
      },
      "outputs": [
        {
          "data": {
            "text/html": [
              "<div>\n",
              "<style scoped>\n",
              "    .dataframe tbody tr th:only-of-type {\n",
              "        vertical-align: middle;\n",
              "    }\n",
              "\n",
              "    .dataframe tbody tr th {\n",
              "        vertical-align: top;\n",
              "    }\n",
              "\n",
              "    .dataframe thead th {\n",
              "        text-align: right;\n",
              "    }\n",
              "</style>\n",
              "<table border=\"1\" class=\"dataframe\">\n",
              "  <thead>\n",
              "    <tr style=\"text-align: right;\">\n",
              "      <th></th>\n",
              "      <th>PassengerId</th>\n",
              "      <th>HomePlanet</th>\n",
              "      <th>CryoSleep</th>\n",
              "      <th>Cabin</th>\n",
              "      <th>Destination</th>\n",
              "      <th>Age</th>\n",
              "      <th>VIP</th>\n",
              "      <th>RoomService</th>\n",
              "      <th>FoodCourt</th>\n",
              "      <th>ShoppingMall</th>\n",
              "      <th>Spa</th>\n",
              "      <th>VRDeck</th>\n",
              "      <th>Name</th>\n",
              "      <th>Transported</th>\n",
              "    </tr>\n",
              "  </thead>\n",
              "  <tbody>\n",
              "    <tr>\n",
              "      <th>0</th>\n",
              "      <td>0001_01</td>\n",
              "      <td>Europa</td>\n",
              "      <td>False</td>\n",
              "      <td>B/0/P</td>\n",
              "      <td>TRAPPIST-1e</td>\n",
              "      <td>39.0</td>\n",
              "      <td>False</td>\n",
              "      <td>0.0</td>\n",
              "      <td>0.0</td>\n",
              "      <td>0.0</td>\n",
              "      <td>0.0</td>\n",
              "      <td>0.0</td>\n",
              "      <td>Maham Ofracculy</td>\n",
              "      <td>False</td>\n",
              "    </tr>\n",
              "    <tr>\n",
              "      <th>1</th>\n",
              "      <td>0002_01</td>\n",
              "      <td>Earth</td>\n",
              "      <td>False</td>\n",
              "      <td>F/0/S</td>\n",
              "      <td>TRAPPIST-1e</td>\n",
              "      <td>24.0</td>\n",
              "      <td>False</td>\n",
              "      <td>109.0</td>\n",
              "      <td>9.0</td>\n",
              "      <td>25.0</td>\n",
              "      <td>549.0</td>\n",
              "      <td>44.0</td>\n",
              "      <td>Juanna Vines</td>\n",
              "      <td>True</td>\n",
              "    </tr>\n",
              "    <tr>\n",
              "      <th>2</th>\n",
              "      <td>0003_01</td>\n",
              "      <td>Europa</td>\n",
              "      <td>False</td>\n",
              "      <td>A/0/S</td>\n",
              "      <td>TRAPPIST-1e</td>\n",
              "      <td>58.0</td>\n",
              "      <td>True</td>\n",
              "      <td>43.0</td>\n",
              "      <td>3576.0</td>\n",
              "      <td>0.0</td>\n",
              "      <td>6715.0</td>\n",
              "      <td>49.0</td>\n",
              "      <td>Altark Susent</td>\n",
              "      <td>False</td>\n",
              "    </tr>\n",
              "    <tr>\n",
              "      <th>3</th>\n",
              "      <td>0003_02</td>\n",
              "      <td>Europa</td>\n",
              "      <td>False</td>\n",
              "      <td>A/0/S</td>\n",
              "      <td>TRAPPIST-1e</td>\n",
              "      <td>33.0</td>\n",
              "      <td>False</td>\n",
              "      <td>0.0</td>\n",
              "      <td>1283.0</td>\n",
              "      <td>371.0</td>\n",
              "      <td>3329.0</td>\n",
              "      <td>193.0</td>\n",
              "      <td>Solam Susent</td>\n",
              "      <td>False</td>\n",
              "    </tr>\n",
              "    <tr>\n",
              "      <th>4</th>\n",
              "      <td>0004_01</td>\n",
              "      <td>Earth</td>\n",
              "      <td>False</td>\n",
              "      <td>F/1/S</td>\n",
              "      <td>TRAPPIST-1e</td>\n",
              "      <td>16.0</td>\n",
              "      <td>False</td>\n",
              "      <td>303.0</td>\n",
              "      <td>70.0</td>\n",
              "      <td>151.0</td>\n",
              "      <td>565.0</td>\n",
              "      <td>2.0</td>\n",
              "      <td>Willy Santantines</td>\n",
              "      <td>True</td>\n",
              "    </tr>\n",
              "    <tr>\n",
              "      <th>5</th>\n",
              "      <td>0005_01</td>\n",
              "      <td>Earth</td>\n",
              "      <td>False</td>\n",
              "      <td>F/0/P</td>\n",
              "      <td>PSO J318.5-22</td>\n",
              "      <td>44.0</td>\n",
              "      <td>False</td>\n",
              "      <td>0.0</td>\n",
              "      <td>483.0</td>\n",
              "      <td>0.0</td>\n",
              "      <td>291.0</td>\n",
              "      <td>0.0</td>\n",
              "      <td>Sandie Hinetthews</td>\n",
              "      <td>True</td>\n",
              "    </tr>\n",
              "    <tr>\n",
              "      <th>6</th>\n",
              "      <td>0006_01</td>\n",
              "      <td>Earth</td>\n",
              "      <td>False</td>\n",
              "      <td>F/2/S</td>\n",
              "      <td>TRAPPIST-1e</td>\n",
              "      <td>26.0</td>\n",
              "      <td>False</td>\n",
              "      <td>42.0</td>\n",
              "      <td>1539.0</td>\n",
              "      <td>3.0</td>\n",
              "      <td>0.0</td>\n",
              "      <td>0.0</td>\n",
              "      <td>Billex Jacostaffey</td>\n",
              "      <td>True</td>\n",
              "    </tr>\n",
              "    <tr>\n",
              "      <th>7</th>\n",
              "      <td>0006_02</td>\n",
              "      <td>Earth</td>\n",
              "      <td>True</td>\n",
              "      <td>G/0/S</td>\n",
              "      <td>TRAPPIST-1e</td>\n",
              "      <td>28.0</td>\n",
              "      <td>False</td>\n",
              "      <td>0.0</td>\n",
              "      <td>0.0</td>\n",
              "      <td>0.0</td>\n",
              "      <td>0.0</td>\n",
              "      <td>NaN</td>\n",
              "      <td>Candra Jacostaffey</td>\n",
              "      <td>True</td>\n",
              "    </tr>\n",
              "    <tr>\n",
              "      <th>8</th>\n",
              "      <td>0007_01</td>\n",
              "      <td>Earth</td>\n",
              "      <td>False</td>\n",
              "      <td>F/3/S</td>\n",
              "      <td>TRAPPIST-1e</td>\n",
              "      <td>35.0</td>\n",
              "      <td>False</td>\n",
              "      <td>0.0</td>\n",
              "      <td>785.0</td>\n",
              "      <td>17.0</td>\n",
              "      <td>216.0</td>\n",
              "      <td>0.0</td>\n",
              "      <td>Andona Beston</td>\n",
              "      <td>True</td>\n",
              "    </tr>\n",
              "    <tr>\n",
              "      <th>9</th>\n",
              "      <td>0008_01</td>\n",
              "      <td>Europa</td>\n",
              "      <td>True</td>\n",
              "      <td>B/1/P</td>\n",
              "      <td>55 Cancri e</td>\n",
              "      <td>14.0</td>\n",
              "      <td>False</td>\n",
              "      <td>0.0</td>\n",
              "      <td>0.0</td>\n",
              "      <td>0.0</td>\n",
              "      <td>0.0</td>\n",
              "      <td>0.0</td>\n",
              "      <td>Erraiam Flatic</td>\n",
              "      <td>True</td>\n",
              "    </tr>\n",
              "  </tbody>\n",
              "</table>\n",
              "</div>"
            ],
            "text/plain": [
              "  PassengerId HomePlanet CryoSleep  Cabin    Destination   Age    VIP  \\\n",
              "0     0001_01     Europa     False  B/0/P    TRAPPIST-1e  39.0  False   \n",
              "1     0002_01      Earth     False  F/0/S    TRAPPIST-1e  24.0  False   \n",
              "2     0003_01     Europa     False  A/0/S    TRAPPIST-1e  58.0   True   \n",
              "3     0003_02     Europa     False  A/0/S    TRAPPIST-1e  33.0  False   \n",
              "4     0004_01      Earth     False  F/1/S    TRAPPIST-1e  16.0  False   \n",
              "5     0005_01      Earth     False  F/0/P  PSO J318.5-22  44.0  False   \n",
              "6     0006_01      Earth     False  F/2/S    TRAPPIST-1e  26.0  False   \n",
              "7     0006_02      Earth      True  G/0/S    TRAPPIST-1e  28.0  False   \n",
              "8     0007_01      Earth     False  F/3/S    TRAPPIST-1e  35.0  False   \n",
              "9     0008_01     Europa      True  B/1/P    55 Cancri e  14.0  False   \n",
              "\n",
              "   RoomService  FoodCourt  ShoppingMall     Spa  VRDeck                Name  \\\n",
              "0          0.0        0.0           0.0     0.0     0.0     Maham Ofracculy   \n",
              "1        109.0        9.0          25.0   549.0    44.0        Juanna Vines   \n",
              "2         43.0     3576.0           0.0  6715.0    49.0       Altark Susent   \n",
              "3          0.0     1283.0         371.0  3329.0   193.0        Solam Susent   \n",
              "4        303.0       70.0         151.0   565.0     2.0   Willy Santantines   \n",
              "5          0.0      483.0           0.0   291.0     0.0   Sandie Hinetthews   \n",
              "6         42.0     1539.0           3.0     0.0     0.0  Billex Jacostaffey   \n",
              "7          0.0        0.0           0.0     0.0     NaN  Candra Jacostaffey   \n",
              "8          0.0      785.0          17.0   216.0     0.0       Andona Beston   \n",
              "9          0.0        0.0           0.0     0.0     0.0      Erraiam Flatic   \n",
              "\n",
              "   Transported  \n",
              "0        False  \n",
              "1         True  \n",
              "2        False  \n",
              "3        False  \n",
              "4         True  \n",
              "5         True  \n",
              "6         True  \n",
              "7         True  \n",
              "8         True  \n",
              "9         True  "
            ]
          },
          "execution_count": 6,
          "metadata": {},
          "output_type": "execute_result"
        }
      ],
      "source": [
        "df_train.head(10)"
      ]
    },
    {
      "cell_type": "code",
      "execution_count": 8,
      "metadata": {
        "colab": {
          "base_uri": "https://localhost:8080/"
        },
        "id": "5dWd1D0PbQbT",
        "outputId": "653c26c8-06ee-4439-bddd-239782ce6ada"
      },
      "outputs": [
        {
          "name": "stdout",
          "output_type": "stream",
          "text": [
            "<class 'pandas.core.frame.DataFrame'>\n",
            "RangeIndex: 8693 entries, 0 to 8692\n",
            "Data columns (total 14 columns):\n",
            " #   Column        Non-Null Count  Dtype  \n",
            "---  ------        --------------  -----  \n",
            " 0   PassengerId   8693 non-null   object \n",
            " 1   HomePlanet    8492 non-null   object \n",
            " 2   CryoSleep     8476 non-null   object \n",
            " 3   Cabin         8494 non-null   object \n",
            " 4   Destination   8511 non-null   object \n",
            " 5   Age           8514 non-null   float64\n",
            " 6   VIP           8490 non-null   object \n",
            " 7   RoomService   8512 non-null   float64\n",
            " 8   FoodCourt     8510 non-null   float64\n",
            " 9   ShoppingMall  8485 non-null   float64\n",
            " 10  Spa           8510 non-null   float64\n",
            " 11  VRDeck        8505 non-null   float64\n",
            " 12  Name          8493 non-null   object \n",
            " 13  Transported   8693 non-null   bool   \n",
            "dtypes: bool(1), float64(6), object(7)\n",
            "memory usage: 891.5+ KB\n"
          ]
        }
      ],
      "source": [
        "df_train.info()"
      ]
    },
    {
      "cell_type": "code",
      "execution_count": 9,
      "metadata": {
        "id": "sgOSfsKVbcyy"
      },
      "outputs": [
        {
          "name": "stdout",
          "output_type": "stream",
          "text": [
            "<class 'pandas.core.frame.DataFrame'>\n",
            "RangeIndex: 4277 entries, 0 to 4276\n",
            "Data columns (total 13 columns):\n",
            " #   Column        Non-Null Count  Dtype  \n",
            "---  ------        --------------  -----  \n",
            " 0   PassengerId   4277 non-null   object \n",
            " 1   HomePlanet    4190 non-null   object \n",
            " 2   CryoSleep     4184 non-null   object \n",
            " 3   Cabin         4177 non-null   object \n",
            " 4   Destination   4185 non-null   object \n",
            " 5   Age           4186 non-null   float64\n",
            " 6   VIP           4184 non-null   object \n",
            " 7   RoomService   4195 non-null   float64\n",
            " 8   FoodCourt     4171 non-null   float64\n",
            " 9   ShoppingMall  4179 non-null   float64\n",
            " 10  Spa           4176 non-null   float64\n",
            " 11  VRDeck        4197 non-null   float64\n",
            " 12  Name          4183 non-null   object \n",
            "dtypes: float64(6), object(7)\n",
            "memory usage: 434.5+ KB\n"
          ]
        }
      ],
      "source": [
        "df_test.info()"
      ]
    },
    {
      "attachments": {},
      "cell_type": "markdown",
      "metadata": {},
      "source": [
        "* PassengerId is not relevant for the training part since it contains an identifier for each passenger\n",
        "* HomePlanet is a categorical value that may be useful\n",
        "* CryoSleep contains boolean values\n",
        "* Cabin is a composition of deck/num/side and shows the details of the passenger position\n",
        "* Destination is a categorical value\n",
        "* Age is an integer number.\n",
        "* VIP is a boolean value\n",
        "* RoomService\tFoodCourt\tShoppingMall\tSpa are the expenses each passenger made during the trip\n",
        "* Name is not relevant\n",
        "* Transported is the label we want to predict"
      ]
    },
    {
      "cell_type": "code",
      "execution_count": 14,
      "metadata": {},
      "outputs": [
        {
          "data": {
            "text/plain": [
              "0       Europa\n",
              "1        Earth\n",
              "2       Europa\n",
              "3       Europa\n",
              "4        Earth\n",
              "         ...  \n",
              "8688    Europa\n",
              "8689     Earth\n",
              "8690     Earth\n",
              "8691    Europa\n",
              "8692    Europa\n",
              "Name: HomePlanet, Length: 8693, dtype: object"
            ]
          },
          "execution_count": 14,
          "metadata": {},
          "output_type": "execute_result"
        }
      ],
      "source": [
        "df_train['HomePlanet']"
      ]
    },
    {
      "cell_type": "code",
      "execution_count": null,
      "metadata": {},
      "outputs": [],
      "source": [
        "from sklearn.preprocessing import OneHotEncoder\n"
      ]
    },
    {
      "attachments": {},
      "cell_type": "markdown",
      "metadata": {},
      "source": [
        "# Prepare the data for the algorithms"
      ]
    },
    {
      "cell_type": "code",
      "execution_count": null,
      "metadata": {},
      "outputs": [],
      "source": []
    }
  ],
  "metadata": {
    "colab": {
      "provenance": []
    },
    "kernelspec": {
      "display_name": ".env",
      "language": "python",
      "name": "python3"
    },
    "language_info": {
      "codemirror_mode": {
        "name": "ipython",
        "version": 3
      },
      "file_extension": ".py",
      "mimetype": "text/x-python",
      "name": "python",
      "nbconvert_exporter": "python",
      "pygments_lexer": "ipython3",
      "version": "3.9.9"
    },
    "vscode": {
      "interpreter": {
        "hash": "c419e091ca89c7d151fa0ef7b7eec6fba97f4686366a87082cac7ec629fe0f4e"
      }
    }
  },
  "nbformat": 4,
  "nbformat_minor": 0
}
